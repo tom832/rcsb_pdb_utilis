{
 "cells": [
  {
   "attachments": {},
   "cell_type": "markdown",
   "metadata": {},
   "source": [
    "## Usage:\n",
    "1. find ligands of complex with entry_id(pdb_id)\n",
    "2. get smiles and sdf files of ligands\n",
    "\n",
    "#### Based on data API of RCSB web services (https://www.rcsb.org/docs/programmatic-access/web-services-overview)"
   ]
  },
  {
   "attachments": {},
   "cell_type": "markdown",
   "metadata": {},
   "source": [
    "#### reference: williamgilpin/pypdb"
   ]
  },
  {
   "cell_type": "code",
   "execution_count": null,
   "metadata": {},
   "outputs": [],
   "source": [
    "import json\n",
    "import requests\n",
    "import warnings\n",
    "from typing import Optional\n",
    "import os\n",
    "import time"
   ]
  },
  {
   "cell_type": "code",
   "execution_count": 17,
   "metadata": {},
   "outputs": [],
   "source": [
    "def request_limited(url: str,\n",
    "                    rtype: str = \"GET\",\n",
    "                    num_attempts: int = 3,\n",
    "                    sleep_time=0.5,\n",
    "                    **kwargs) -> Optional[requests.models.Response]:\n",
    "    \"\"\"\n",
    "    HTML request with rate-limiting base on response code\n",
    "\n",
    "    \n",
    "    Parameters\n",
    "    ----------\n",
    "    url : str\n",
    "        The url for the request\n",
    "    rtype : str\n",
    "        The request type (oneof [\"GET\", \"POST\"])\n",
    "    num_attempts : int\n",
    "        In case of a failed retrieval, the number of attempts to try again\n",
    "    sleep_time : int\n",
    "        The amount of time to wait between requests, in case of\n",
    "        API rate limits\n",
    "    **kwargs : dict\n",
    "        The keyword arguments to pass to the request\n",
    "\n",
    "    Returns\n",
    "    -------\n",
    "\n",
    "    response : requests.models.Response\n",
    "        The server response object. Only returned if request was successful,\n",
    "        otherwise returns None.\n",
    "\n",
    "    \"\"\"\n",
    "\n",
    "    if rtype not in [\"GET\", \"POST\"]:\n",
    "        warnings.warn(\"Request type not recognized\")\n",
    "        return None\n",
    "\n",
    "    total_attempts = 0\n",
    "    while (total_attempts <= num_attempts):\n",
    "        if rtype == \"GET\":\n",
    "            response = requests.get(url, **kwargs)\n",
    "        elif rtype == \"POST\":\n",
    "            response = requests.post(url, **kwargs)\n",
    "\n",
    "        if response.status_code == 200:\n",
    "            return response\n",
    "\n",
    "        if response.status_code == 429:\n",
    "            curr_sleep = (1 + total_attempts) * sleep_time\n",
    "            warnings.warn(\"Too many requests, waiting \" + str(curr_sleep) +\n",
    "                          \" s\")\n",
    "            time.sleep(curr_sleep)\n",
    "        elif 500 <= response.status_code < 600:\n",
    "            warnings.warn(\"Server error encountered. Retrying\")\n",
    "        total_attempts += 1\n",
    "\n",
    "    warnings.warn(\"Too many failures on requests. Exiting...\")\n",
    "    return None\n",
    "\n"
   ]
  },
  {
   "cell_type": "code",
   "execution_count": null,
   "metadata": {},
   "outputs": [],
   "source": [
    "def get_nonpolymer_bound_components(entry_id='7rfs', \n",
    "                                    url_root='https://data.rcsb.org/rest/v1/core/entry/'):\n",
    "    \n",
    "    url = url_root + entry_id\n",
    "    response = request_limited(url)\n",
    "    if response is None or response.status_code != 200:\n",
    "        warnings.warn(\"Retrieval failed, returning None\")\n",
    "        return None\n",
    "    result = str(response.text)\n",
    "    all_info = json.loads(result)\n",
    "    try:\n",
    "        ligands = all_info['rcsb_entry_info']['nonpolymer_bound_components']\n",
    "        return ligands\n",
    "    except:\n",
    "        warnings.warn(\"No ligands found, returning None\")\n",
    "        return None\n",
    "\n",
    "\n",
    "\n",
    "def get_comp_smiles(comp_id='4WI', \n",
    "                    url_root='https://data.rcsb.org/rest/v1/core/chemcomp/', \n",
    "                    stero=True):\n",
    "    \n",
    "    url = url_root + comp_id\n",
    "    response = request_limited(url)\n",
    "    if response is None or response.status_code != 200:\n",
    "        warnings.warn(\"Retrieval failed, returning None\")\n",
    "        return None\n",
    "    result = str(response.text)\n",
    "    comp_info = json.loads(result)\n",
    "    try:\n",
    "        if stero:\n",
    "            smiles = comp_info['rcsb_chem_comp_descriptor']['smilesstereo']\n",
    "        else:\n",
    "            smiles = comp_info['rcsb_chem_comp_descriptor']['smiles']\n",
    "        return smiles\n",
    "    except:\n",
    "        warnings.warn(\"No smiles found, returning None\")\n",
    "        return None\n",
    "\n",
    "\n",
    "def get_ligands_smiles(entry_id='7rfs', \n",
    "                       stero=True):\n",
    "    \n",
    "    ligands = get_nonpolymer_bound_components(entry_id=entry_id)\n",
    "    ligands2smiles = {}\n",
    "    for ligand in ligands:\n",
    "        if ligand in ligands2smiles:\n",
    "            continue\n",
    "        ligands2smiles[ligand] = get_comp_smiles(comp_id=ligand, stero=stero)\n",
    "    return ligands2smiles"
   ]
  },
  {
   "cell_type": "code",
   "execution_count": 12,
   "metadata": {},
   "outputs": [
    {
     "name": "stdout",
     "output_type": "stream",
     "text": [
      "{\n",
      "  \"4WI\": \"[H]/N=C/[C@H](C[C@@H]1CCNC1=O)NC(=O)[C@@H]2[C@@H]3[C@@H](C3(C)C)CN2C(=O)[C@H](C(C)(C)C)NC(=O)C(F)(F)F\"\n",
      "}\n"
     ]
    }
   ],
   "source": [
    "data = get_ligands_smiles(entry_id='7rfs', stero=True)\n",
    "print(json.dumps(data, indent=2))"
   ]
  },
  {
   "cell_type": "code",
   "execution_count": 15,
   "metadata": {},
   "outputs": [],
   "source": [
    "def download_comp_sdf_file(comp_id='4WI', \n",
    "                           ideal=True, \n",
    "                           url_root='https://files.rcsb.org/ligands/download/', \n",
    "                           save_root='./'):\n",
    "    \n",
    "    if ideal:\n",
    "        file_name = comp_id + '_ideal.sdf'\n",
    "    else:\n",
    "        file_name = comp_id + '_model.sdf'\n",
    "    url = url_root + file_name\n",
    "    response = request_limited(url)\n",
    "    if response is None or response.status_code != 200:\n",
    "        warnings.warn(\"Retrieval failed, returning None\")\n",
    "        return None\n",
    "    sdf_text = str(response.text)\n",
    "    save_path = os.path.join(save_root, file_name)\n",
    "    with open(save_path, 'w') as f:\n",
    "        f.write(sdf_text)\n",
    "    return save_path"
   ]
  },
  {
   "cell_type": "code",
   "execution_count": 18,
   "metadata": {},
   "outputs": [
    {
     "data": {
      "text/plain": [
       "'./4WI_ideal.sdf'"
      ]
     },
     "execution_count": 18,
     "metadata": {},
     "output_type": "execute_result"
    }
   ],
   "source": [
    "download_comp_sdf_file(comp_id='4WI', ideal=True, save_root='./')"
   ]
  },
  {
   "cell_type": "code",
   "execution_count": null,
   "metadata": {},
   "outputs": [],
   "source": []
  }
 ],
 "metadata": {
  "kernelspec": {
   "display_name": "click",
   "language": "python",
   "name": "python3"
  },
  "language_info": {
   "codemirror_mode": {
    "name": "ipython",
    "version": 3
   },
   "file_extension": ".py",
   "mimetype": "text/x-python",
   "name": "python",
   "nbconvert_exporter": "python",
   "pygments_lexer": "ipython3",
   "version": "3.7.16"
  },
  "orig_nbformat": 4
 },
 "nbformat": 4,
 "nbformat_minor": 2
}
